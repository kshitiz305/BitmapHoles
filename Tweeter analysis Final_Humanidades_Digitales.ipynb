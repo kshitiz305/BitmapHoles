{
  "cells": [
    {
      "cell_type": "markdown",
      "metadata": {
        "id": "view-in-github",
        "colab_type": "text"
      },
      "source": [
        "<a href=\"https://colab.research.google.com/github/kshitiz305/BitmapHoles/blob/main/Tweeter%20analysis%20Final_Humanidades_Digitales.ipynb\" target=\"_parent\"><img src=\"https://colab.research.google.com/assets/colab-badge.svg\" alt=\"Open In Colab\"/></a>"
      ]
    },
    {
      "cell_type": "code",
      "execution_count": null,
      "metadata": {
        "colab": {
          "base_uri": "https://localhost:8080/"
        },
        "id": "BeFngXsjYBYc",
        "outputId": "956143c3-cc44-4157-abc5-4122b51e1e00"
      },
      "outputs": [
        {
          "output_type": "stream",
          "name": "stderr",
          "text": [
            "[nltk_data] Downloading package stopwords to /root/nltk_data...\n",
            "[nltk_data]   Package stopwords is already up-to-date!\n"
          ]
        },
        {
          "output_type": "stream",
          "name": "stdout",
          "text": [
            "Looking in indexes: https://pypi.org/simple, https://us-python.pkg.dev/colab-wheels/public/simple/\n",
            "Requirement already satisfied: transformers in /usr/local/lib/python3.8/dist-packages (4.25.1)\n",
            "Requirement already satisfied: huggingface-hub<1.0,>=0.10.0 in /usr/local/lib/python3.8/dist-packages (from transformers) (0.11.1)\n",
            "Requirement already satisfied: regex!=2019.12.17 in /usr/local/lib/python3.8/dist-packages (from transformers) (2022.6.2)\n",
            "Requirement already satisfied: requests in /usr/local/lib/python3.8/dist-packages (from transformers) (2.28.1)\n",
            "Requirement already satisfied: tqdm>=4.27 in /usr/local/lib/python3.8/dist-packages (from transformers) (4.64.1)\n",
            "Requirement already satisfied: numpy>=1.17 in /usr/local/lib/python3.8/dist-packages (from transformers) (1.21.6)\n",
            "Requirement already satisfied: tokenizers!=0.11.3,<0.14,>=0.11.1 in /usr/local/lib/python3.8/dist-packages (from transformers) (0.13.2)\n",
            "Requirement already satisfied: pyyaml>=5.1 in /usr/local/lib/python3.8/dist-packages (from transformers) (6.0)\n",
            "Requirement already satisfied: filelock in /usr/local/lib/python3.8/dist-packages (from transformers) (3.8.0)\n",
            "Requirement already satisfied: packaging>=20.0 in /usr/local/lib/python3.8/dist-packages (from transformers) (21.3)\n",
            "Requirement already satisfied: typing-extensions>=3.7.4.3 in /usr/local/lib/python3.8/dist-packages (from huggingface-hub<1.0,>=0.10.0->transformers) (4.4.0)\n",
            "Requirement already satisfied: pyparsing!=3.0.5,>=2.0.2 in /usr/local/lib/python3.8/dist-packages (from packaging>=20.0->transformers) (3.0.9)\n",
            "Requirement already satisfied: charset-normalizer<3,>=2 in /usr/local/lib/python3.8/dist-packages (from requests->transformers) (2.1.1)\n",
            "Requirement already satisfied: urllib3<1.27,>=1.21.1 in /usr/local/lib/python3.8/dist-packages (from requests->transformers) (1.24.3)\n",
            "Requirement already satisfied: certifi>=2017.4.17 in /usr/local/lib/python3.8/dist-packages (from requests->transformers) (2022.9.24)\n",
            "Requirement already satisfied: idna<4,>=2.5 in /usr/local/lib/python3.8/dist-packages (from requests->transformers) (2.10)\n"
          ]
        }
      ],
      "source": [
        "# Importamos algunas librerías\n",
        "import requests\n",
        "import json \n",
        "import pandas as pd\n",
        "import time \n",
        "import matplotlib.pyplot as plt \n",
        "import tweepy\n",
        "from wordcloud import WordCloud\n",
        "\n",
        "# Importamos nltk para extraer stopwords \n",
        "import nltk \n",
        "nltk.download('stopwords')\n",
        "\n",
        "# Comenzamos instalando la librería transformers e importando la función pipeline\n",
        "!pip install transformers\n",
        "from transformers import pipeline\n",
        "\n"
      ]
    },
    {
      "cell_type": "code",
      "execution_count": null,
      "metadata": {
        "id": "m1F27I4nm68W",
        "colab": {
          "base_uri": "https://localhost:8080/"
        },
        "outputId": "bb349b11-e51d-4531-8bf5-0ab1082cf090"
      },
      "outputs": [
        {
          "output_type": "stream",
          "name": "stdout",
          "text": [
            "Looking in indexes: https://pypi.org/simple, https://us-python.pkg.dev/colab-wheels/public/simple/\n",
            "Collecting git+https://github.com/tweepy/tweepy.git\n",
            "  Cloning https://github.com/tweepy/tweepy.git to /tmp/pip-req-build-4z2kbo91\n",
            "  Running command git clone -q https://github.com/tweepy/tweepy.git /tmp/pip-req-build-4z2kbo91\n",
            "Requirement already satisfied: oauthlib<4,>=3.2.0 in /usr/local/lib/python3.8/dist-packages (from tweepy==4.12.1) (3.2.2)\n",
            "Requirement already satisfied: requests<3,>=2.27.0 in /usr/local/lib/python3.8/dist-packages (from tweepy==4.12.1) (2.28.1)\n",
            "Requirement already satisfied: requests-oauthlib<2,>=1.2.0 in /usr/local/lib/python3.8/dist-packages (from tweepy==4.12.1) (1.3.1)\n",
            "Requirement already satisfied: urllib3<1.27,>=1.21.1 in /usr/local/lib/python3.8/dist-packages (from requests<3,>=2.27.0->tweepy==4.12.1) (1.24.3)\n",
            "Requirement already satisfied: certifi>=2017.4.17 in /usr/local/lib/python3.8/dist-packages (from requests<3,>=2.27.0->tweepy==4.12.1) (2022.9.24)\n",
            "Requirement already satisfied: charset-normalizer<3,>=2 in /usr/local/lib/python3.8/dist-packages (from requests<3,>=2.27.0->tweepy==4.12.1) (2.1.1)\n",
            "Requirement already satisfied: idna<4,>=2.5 in /usr/local/lib/python3.8/dist-packages (from requests<3,>=2.27.0->tweepy==4.12.1) (2.10)\n"
          ]
        }
      ],
      "source": [
        "!pip install git+https://github.com/tweepy/tweepy.git"
      ]
    },
    {
      "cell_type": "code",
      "source": [
        "import tweepy\n"
      ],
      "metadata": {
        "id": "juVshMTzeQdo"
      },
      "execution_count": null,
      "outputs": []
    },
    {
      "cell_type": "code",
      "source": [
        "from transformers import pipeline"
      ],
      "metadata": {
        "id": "6ry9ShyuDdaU"
      },
      "execution_count": null,
      "outputs": []
    },
    {
      "cell_type": "code",
      "source": [
        "sentiment = pipeline(model = \"pysentimiento/robertuito-sentiment-analysis\")"
      ],
      "metadata": {
        "id": "6j_DsrL7Xa_h"
      },
      "execution_count": null,
      "outputs": []
    },
    {
      "cell_type": "code",
      "execution_count": null,
      "metadata": {
        "colab": {
          "base_uri": "https://localhost:8080/"
        },
        "id": "-AIsKu_Zm88U",
        "outputId": "4449d96a-86e9-4b29-83d9-4100dbfe0318"
      },
      "outputs": [
        {
          "output_type": "stream",
          "name": "stdout",
          "text": [
            "4.12.1\n"
          ]
        }
      ],
      "source": [
        "\n",
        "print(tweepy.__version__) # necesitamos version > 4.0"
      ]
    },
    {
      "cell_type": "code",
      "execution_count": null,
      "metadata": {
        "id": "TWM83cGfFSyg"
      },
      "outputs": [],
      "source": [
        "bearer_token = \"AAAAAAAAAAAAAAAAAAAAAOZ4iwEAAAAAGxkJSR7bSyOoigZf6yVE09BG5v0%3D6kZPqSJyzyhHvdz6eSa0ylnmO2bnmZJ5JOrlphJmRBLD2tSyfM\" # completar con con el bearen token personal"
      ]
    },
    {
      "cell_type": "code",
      "execution_count": null,
      "metadata": {
        "id": "u2DpxNq5RuWV"
      },
      "outputs": [],
      "source": [
        "client = tweepy.Client(bearer_token=bearer_token, wait_on_rate_limit=True)"
      ]
    },
    {
      "cell_type": "code",
      "execution_count": null,
      "metadata": {
        "id": "VvFbpYpWPa0J"
      },
      "outputs": [],
      "source": [
        "client2 = tweepy.Client(bearer_token=bearer_token, wait_on_rate_limit=True, return_type = requests.Response)\n",
        "\n",
        "query = 'Ley de humedales' or 'ley de humedales' or 'Ley de Humedales' or 'ley de Humedales' or 'Ley De Humedales' or 'ley de húmedales' or '#leydehumedalesya' or '#LeyDeHumedalesYA'\n",
        "\n",
        "tweets = client2.search_recent_tweets(query=query, tweet_fields=['context_annotations', 'created_at'], max_results=100,  expansions=\"referenced_tweets.id\")"
      ]
    },
    {
      "cell_type": "code",
      "execution_count": null,
      "metadata": {
        "id": "BK7fM_OyrYsz"
      },
      "outputs": [],
      "source": [
        "tweets_json = tweets.json()\n",
        "df = pd.json_normalize(tweets_json['data'])"
      ]
    },
    {
      "cell_type": "code",
      "source": [
        "df\n"
      ],
      "metadata": {
        "colab": {
          "base_uri": "https://localhost:8080/",
          "height": 424
        },
        "id": "DwVXd5bMibsi",
        "outputId": "0f91405c-e108-4837-b92b-5a4d5ec59b35"
      },
      "execution_count": null,
      "outputs": [
        {
          "output_type": "execute_result",
          "data": {
            "text/plain": [
              "   edit_history_tweet_ids                                  referenced_tweets  \\\n",
              "0   [1603014888875765762]  [{'type': 'retweeted', 'id': '1602982267999195...   \n",
              "1   [1603012011700502530]  [{'type': 'retweeted', 'id': '1602982267999195...   \n",
              "2   [1602997593738354688]  [{'type': 'retweeted', 'id': '1602990825595609...   \n",
              "3   [1602994289499414529]  [{'type': 'replied_to', 'id': '160269143791681...   \n",
              "4   [1602991222167334915]  [{'type': 'retweeted', 'id': '1602990825595609...   \n",
              "..                    ...                                                ...   \n",
              "95  [1602350746476969988]  [{'type': 'retweeted', 'id': '1602085647157805...   \n",
              "96  [1602349986427146243]  [{'type': 'retweeted', 'id': '1602085647157805...   \n",
              "97  [1602349423039750145]  [{'type': 'retweeted', 'id': '1602085647157805...   \n",
              "98  [1602348302732652544]  [{'type': 'replied_to', 'id': '160232585425158...   \n",
              "99  [1602347242110713856]  [{'type': 'retweeted', 'id': '1602319011198500...   \n",
              "\n",
              "                                                 text  \\\n",
              "0   RT @LautaroJimenezB: Luchemos por la aprobació...   \n",
              "1   RT @LautaroJimenezB: Luchemos por la aprobació...   \n",
              "2   RT @MMAMetropolitan: #HumedalesUrbanos | Cumpl...   \n",
              "3             @rsgagro Ley de humedales ya!\\nQue loco   \n",
              "4   RT @MMAMetropolitan: #HumedalesUrbanos | Cumpl...   \n",
              "..                                                ...   \n",
              "95  RT @LautaroJimenezB: Laguna Las Salinas -Área ...   \n",
              "96  RT @LautaroJimenezB: Laguna Las Salinas -Área ...   \n",
              "97  RT @LautaroJimenezB: Laguna Las Salinas -Área ...   \n",
              "98  @DaminMarino1 Estos son los que mandaron la No...   \n",
              "99  RT @fsatenas: @emmahorvilleur1 La ley de humed...   \n",
              "\n",
              "                  created_at                   id context_annotations  \n",
              "0   2022-12-14T13:11:46.000Z  1603014888875765762                 NaN  \n",
              "1   2022-12-14T13:00:20.000Z  1603012011700502530                 NaN  \n",
              "2   2022-12-14T12:03:03.000Z  1602997593738354688                 NaN  \n",
              "3   2022-12-14T11:49:55.000Z  1602994289499414529                 NaN  \n",
              "4   2022-12-14T11:37:44.000Z  1602991222167334915                 NaN  \n",
              "..                       ...                  ...                 ...  \n",
              "95  2022-12-12T17:12:42.000Z  1602350746476969988                 NaN  \n",
              "96  2022-12-12T17:09:41.000Z  1602349986427146243                 NaN  \n",
              "97  2022-12-12T17:07:27.000Z  1602349423039750145                 NaN  \n",
              "98  2022-12-12T17:03:00.000Z  1602348302732652544                 NaN  \n",
              "99  2022-12-12T16:58:47.000Z  1602347242110713856                 NaN  \n",
              "\n",
              "[100 rows x 6 columns]"
            ],
            "text/html": [
              "\n",
              "  <div id=\"df-ce3cf635-5b25-4fee-886d-7742e6ceabb3\">\n",
              "    <div class=\"colab-df-container\">\n",
              "      <div>\n",
              "<style scoped>\n",
              "    .dataframe tbody tr th:only-of-type {\n",
              "        vertical-align: middle;\n",
              "    }\n",
              "\n",
              "    .dataframe tbody tr th {\n",
              "        vertical-align: top;\n",
              "    }\n",
              "\n",
              "    .dataframe thead th {\n",
              "        text-align: right;\n",
              "    }\n",
              "</style>\n",
              "<table border=\"1\" class=\"dataframe\">\n",
              "  <thead>\n",
              "    <tr style=\"text-align: right;\">\n",
              "      <th></th>\n",
              "      <th>edit_history_tweet_ids</th>\n",
              "      <th>referenced_tweets</th>\n",
              "      <th>text</th>\n",
              "      <th>created_at</th>\n",
              "      <th>id</th>\n",
              "      <th>context_annotations</th>\n",
              "    </tr>\n",
              "  </thead>\n",
              "  <tbody>\n",
              "    <tr>\n",
              "      <th>0</th>\n",
              "      <td>[1603014888875765762]</td>\n",
              "      <td>[{'type': 'retweeted', 'id': '1602982267999195...</td>\n",
              "      <td>RT @LautaroJimenezB: Luchemos por la aprobació...</td>\n",
              "      <td>2022-12-14T13:11:46.000Z</td>\n",
              "      <td>1603014888875765762</td>\n",
              "      <td>NaN</td>\n",
              "    </tr>\n",
              "    <tr>\n",
              "      <th>1</th>\n",
              "      <td>[1603012011700502530]</td>\n",
              "      <td>[{'type': 'retweeted', 'id': '1602982267999195...</td>\n",
              "      <td>RT @LautaroJimenezB: Luchemos por la aprobació...</td>\n",
              "      <td>2022-12-14T13:00:20.000Z</td>\n",
              "      <td>1603012011700502530</td>\n",
              "      <td>NaN</td>\n",
              "    </tr>\n",
              "    <tr>\n",
              "      <th>2</th>\n",
              "      <td>[1602997593738354688]</td>\n",
              "      <td>[{'type': 'retweeted', 'id': '1602990825595609...</td>\n",
              "      <td>RT @MMAMetropolitan: #HumedalesUrbanos | Cumpl...</td>\n",
              "      <td>2022-12-14T12:03:03.000Z</td>\n",
              "      <td>1602997593738354688</td>\n",
              "      <td>NaN</td>\n",
              "    </tr>\n",
              "    <tr>\n",
              "      <th>3</th>\n",
              "      <td>[1602994289499414529]</td>\n",
              "      <td>[{'type': 'replied_to', 'id': '160269143791681...</td>\n",
              "      <td>@rsgagro Ley de humedales ya!\\nQue loco</td>\n",
              "      <td>2022-12-14T11:49:55.000Z</td>\n",
              "      <td>1602994289499414529</td>\n",
              "      <td>NaN</td>\n",
              "    </tr>\n",
              "    <tr>\n",
              "      <th>4</th>\n",
              "      <td>[1602991222167334915]</td>\n",
              "      <td>[{'type': 'retweeted', 'id': '1602990825595609...</td>\n",
              "      <td>RT @MMAMetropolitan: #HumedalesUrbanos | Cumpl...</td>\n",
              "      <td>2022-12-14T11:37:44.000Z</td>\n",
              "      <td>1602991222167334915</td>\n",
              "      <td>NaN</td>\n",
              "    </tr>\n",
              "    <tr>\n",
              "      <th>...</th>\n",
              "      <td>...</td>\n",
              "      <td>...</td>\n",
              "      <td>...</td>\n",
              "      <td>...</td>\n",
              "      <td>...</td>\n",
              "      <td>...</td>\n",
              "    </tr>\n",
              "    <tr>\n",
              "      <th>95</th>\n",
              "      <td>[1602350746476969988]</td>\n",
              "      <td>[{'type': 'retweeted', 'id': '1602085647157805...</td>\n",
              "      <td>RT @LautaroJimenezB: Laguna Las Salinas -Área ...</td>\n",
              "      <td>2022-12-12T17:12:42.000Z</td>\n",
              "      <td>1602350746476969988</td>\n",
              "      <td>NaN</td>\n",
              "    </tr>\n",
              "    <tr>\n",
              "      <th>96</th>\n",
              "      <td>[1602349986427146243]</td>\n",
              "      <td>[{'type': 'retweeted', 'id': '1602085647157805...</td>\n",
              "      <td>RT @LautaroJimenezB: Laguna Las Salinas -Área ...</td>\n",
              "      <td>2022-12-12T17:09:41.000Z</td>\n",
              "      <td>1602349986427146243</td>\n",
              "      <td>NaN</td>\n",
              "    </tr>\n",
              "    <tr>\n",
              "      <th>97</th>\n",
              "      <td>[1602349423039750145]</td>\n",
              "      <td>[{'type': 'retweeted', 'id': '1602085647157805...</td>\n",
              "      <td>RT @LautaroJimenezB: Laguna Las Salinas -Área ...</td>\n",
              "      <td>2022-12-12T17:07:27.000Z</td>\n",
              "      <td>1602349423039750145</td>\n",
              "      <td>NaN</td>\n",
              "    </tr>\n",
              "    <tr>\n",
              "      <th>98</th>\n",
              "      <td>[1602348302732652544]</td>\n",
              "      <td>[{'type': 'replied_to', 'id': '160232585425158...</td>\n",
              "      <td>@DaminMarino1 Estos son los que mandaron la No...</td>\n",
              "      <td>2022-12-12T17:03:00.000Z</td>\n",
              "      <td>1602348302732652544</td>\n",
              "      <td>NaN</td>\n",
              "    </tr>\n",
              "    <tr>\n",
              "      <th>99</th>\n",
              "      <td>[1602347242110713856]</td>\n",
              "      <td>[{'type': 'retweeted', 'id': '1602319011198500...</td>\n",
              "      <td>RT @fsatenas: @emmahorvilleur1 La ley de humed...</td>\n",
              "      <td>2022-12-12T16:58:47.000Z</td>\n",
              "      <td>1602347242110713856</td>\n",
              "      <td>NaN</td>\n",
              "    </tr>\n",
              "  </tbody>\n",
              "</table>\n",
              "<p>100 rows × 6 columns</p>\n",
              "</div>\n",
              "      <button class=\"colab-df-convert\" onclick=\"convertToInteractive('df-ce3cf635-5b25-4fee-886d-7742e6ceabb3')\"\n",
              "              title=\"Convert this dataframe to an interactive table.\"\n",
              "              style=\"display:none;\">\n",
              "        \n",
              "  <svg xmlns=\"http://www.w3.org/2000/svg\" height=\"24px\"viewBox=\"0 0 24 24\"\n",
              "       width=\"24px\">\n",
              "    <path d=\"M0 0h24v24H0V0z\" fill=\"none\"/>\n",
              "    <path d=\"M18.56 5.44l.94 2.06.94-2.06 2.06-.94-2.06-.94-.94-2.06-.94 2.06-2.06.94zm-11 1L8.5 8.5l.94-2.06 2.06-.94-2.06-.94L8.5 2.5l-.94 2.06-2.06.94zm10 10l.94 2.06.94-2.06 2.06-.94-2.06-.94-.94-2.06-.94 2.06-2.06.94z\"/><path d=\"M17.41 7.96l-1.37-1.37c-.4-.4-.92-.59-1.43-.59-.52 0-1.04.2-1.43.59L10.3 9.45l-7.72 7.72c-.78.78-.78 2.05 0 2.83L4 21.41c.39.39.9.59 1.41.59.51 0 1.02-.2 1.41-.59l7.78-7.78 2.81-2.81c.8-.78.8-2.07 0-2.86zM5.41 20L4 18.59l7.72-7.72 1.47 1.35L5.41 20z\"/>\n",
              "  </svg>\n",
              "      </button>\n",
              "      \n",
              "  <style>\n",
              "    .colab-df-container {\n",
              "      display:flex;\n",
              "      flex-wrap:wrap;\n",
              "      gap: 12px;\n",
              "    }\n",
              "\n",
              "    .colab-df-convert {\n",
              "      background-color: #E8F0FE;\n",
              "      border: none;\n",
              "      border-radius: 50%;\n",
              "      cursor: pointer;\n",
              "      display: none;\n",
              "      fill: #1967D2;\n",
              "      height: 32px;\n",
              "      padding: 0 0 0 0;\n",
              "      width: 32px;\n",
              "    }\n",
              "\n",
              "    .colab-df-convert:hover {\n",
              "      background-color: #E2EBFA;\n",
              "      box-shadow: 0px 1px 2px rgba(60, 64, 67, 0.3), 0px 1px 3px 1px rgba(60, 64, 67, 0.15);\n",
              "      fill: #174EA6;\n",
              "    }\n",
              "\n",
              "    [theme=dark] .colab-df-convert {\n",
              "      background-color: #3B4455;\n",
              "      fill: #D2E3FC;\n",
              "    }\n",
              "\n",
              "    [theme=dark] .colab-df-convert:hover {\n",
              "      background-color: #434B5C;\n",
              "      box-shadow: 0px 1px 3px 1px rgba(0, 0, 0, 0.15);\n",
              "      filter: drop-shadow(0px 1px 2px rgba(0, 0, 0, 0.3));\n",
              "      fill: #FFFFFF;\n",
              "    }\n",
              "  </style>\n",
              "\n",
              "      <script>\n",
              "        const buttonEl =\n",
              "          document.querySelector('#df-ce3cf635-5b25-4fee-886d-7742e6ceabb3 button.colab-df-convert');\n",
              "        buttonEl.style.display =\n",
              "          google.colab.kernel.accessAllowed ? 'block' : 'none';\n",
              "\n",
              "        async function convertToInteractive(key) {\n",
              "          const element = document.querySelector('#df-ce3cf635-5b25-4fee-886d-7742e6ceabb3');\n",
              "          const dataTable =\n",
              "            await google.colab.kernel.invokeFunction('convertToInteractive',\n",
              "                                                     [key], {});\n",
              "          if (!dataTable) return;\n",
              "\n",
              "          const docLinkHtml = 'Like what you see? Visit the ' +\n",
              "            '<a target=\"_blank\" href=https://colab.research.google.com/notebooks/data_table.ipynb>data table notebook</a>'\n",
              "            + ' to learn more about interactive tables.';\n",
              "          element.innerHTML = '';\n",
              "          dataTable['output_type'] = 'display_data';\n",
              "          await google.colab.output.renderOutput(dataTable, element);\n",
              "          const docLink = document.createElement('div');\n",
              "          docLink.innerHTML = docLinkHtml;\n",
              "          element.appendChild(docLink);\n",
              "        }\n",
              "      </script>\n",
              "    </div>\n",
              "  </div>\n",
              "  "
            ]
          },
          "metadata": {},
          "execution_count": 29
        }
      ]
    },
    {
      "cell_type": "code",
      "source": [
        "df['text'][0]\n",
        "N = df.shape[0]\n",
        "sentiment(df[\"text\"][0])[0]['label']"
      ],
      "metadata": {
        "id": "sPTXFglWgpsK",
        "outputId": "c7715214-c472-41b9-e767-74ff65248dcf",
        "colab": {
          "base_uri": "https://localhost:8080/",
          "height": 35
        }
      },
      "execution_count": null,
      "outputs": [
        {
          "output_type": "execute_result",
          "data": {
            "text/plain": [
              "'NEU'"
            ],
            "application/vnd.google.colaboratory.intrinsic+json": {
              "type": "string"
            }
          },
          "metadata": {},
          "execution_count": 30
        }
      ]
    },
    {
      "cell_type": "code",
      "source": [
        "positives =[]\n",
        "neutral=[]\n",
        "negative=[]\n",
        "\n",
        "\n",
        "for i in range(N):\n",
        "\n",
        "  try:\n",
        "\n",
        "    sent = sentiment(df[\"text\"][i])[0]['label']\n",
        "\n",
        "    if sent=='NEU':\n",
        "      neutral.append(df[\"id\"][i])\n",
        "    elif sent=='NEG':\n",
        "      negative.append(df[\"id\"][i])\n",
        "\n",
        "    elif sent=='POS':\n",
        "      positives.append(df[\"id\"][i])\n",
        "  \n",
        "  except:\n",
        "    None\n",
        "\n"
      ],
      "metadata": {
        "id": "zDBdSL0ZubO3"
      },
      "execution_count": null,
      "outputs": []
    },
    {
      "cell_type": "code",
      "source": [
        "print(len(positives),len(neutral),len(negative))"
      ],
      "metadata": {
        "colab": {
          "base_uri": "https://localhost:8080/"
        },
        "id": "PGFl_2d-zvND",
        "outputId": "be795615-3a08-4a7c-e78d-ae445349a5e2"
      },
      "execution_count": null,
      "outputs": [
        {
          "output_type": "stream",
          "name": "stdout",
          "text": [
            "4 75 21\n"
          ]
        }
      ]
    },
    {
      "cell_type": "code",
      "execution_count": null,
      "metadata": {
        "id": "BFJ0JXGnGcM5"
      },
      "outputs": [],
      "source": [
        "\n",
        "\n",
        "counts = client.get_recent_tweets_count(query=query, granularity='hour')\n"
      ]
    }
  ],
  "metadata": {
    "colab": {
      "provenance": [],
      "include_colab_link": true
    },
    "kernelspec": {
      "display_name": "Python 3",
      "name": "python3"
    },
    "language_info": {
      "name": "python"
    }
  },
  "nbformat": 4,
  "nbformat_minor": 0
}